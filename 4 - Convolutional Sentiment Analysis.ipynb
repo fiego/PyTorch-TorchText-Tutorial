{
 "cells": [
  {
   "cell_type": "markdown",
   "metadata": {},
   "source": [
    "# 4 - Convolutional Sentiment Analysis\n",
    "\n",
    "In the previous notebooks, we managed to achieve a test accuracy of ~85% using RNNs and an implementation of the [Bag of Tricks for Efficient Text Classification](https://arxiv.org/abs/1607.01759) model. In this notebook, we will be using a *convolutional neural network* (CNN) to conduct sentiment analysis, implementing the model from [Convolutional Neural Networks for Sentence Classification](https://arxiv.org/abs/1408.5882).\n",
    "\n",
    "**Note**: This tutorial is not aiming to give a comprehensive introduction and explanation of CNNs. For a better and more in-depth explanation check out [here](https://ujjwalkarn.me/2016/08/11/intuitive-explanation-convnets/) and [here](https://cs231n.github.io/convolutional-networks/).\n",
    "\n",
    "Traditionally, CNNs are used to analyse images and are made up of one or more *convolutional* layers, followed by one or more linear layers. The convolutional layers use filters (also called *kernels* or *receptive fields*) which scan across an image and produce a processed version of the image. This processed version of the image can be fed into another convolutional layer or a linear layer. Each filter has a shape, e.g. a 3x3 filter covers a 3 pixel wide and 3 pixel high area of the image, and each element of the filter has a weight associated with it, the 3x3 filter would have 9 weights. In traditional image processing these weights were specified by hand by engineers, however the main advantage of the convolutional layers in neural networks is that these weights are learned via backpropagation. \n",
    "\n",
    "The intuitive idea behind learning the weights is that your convolutional layers act like *feature extractors*, extracting parts of the image that are most important for your CNN's goal, e.g. if using a CNN to detect faces in an image, the CNN may be looking for features such as the existance of a nose, mouth or a pair of eyes in the image.\n",
    "\n",
    "So why use CNNs on text? In the same way that a 3x3 filter can look over a patch of an image, a 1x2 filter can look over a 2 sequential words in a piece of text, i.e. a bi-gram. In the previous tutorial we looked at the FastText model which used bi-grams by explicitly adding them to the end of a text, in this CNN model we will instead use multiple filters of different sizes which will look at the bi-grams (a 1x2 filter), tri-grams (a 1x3 filter) and/or n-grams (a 1x$n$ filter) within the text.\n",
    "\n",
    "The intuition here is that the appearance of certain bi-grams, tri-grams and n-grams within the review will be a good indication of the final sentiment."
   ]
  },
  {
   "cell_type": "markdown",
   "metadata": {},
   "source": [
    "## Preparing Data\n",
    "\n",
    "As in the previous notebooks, we'll prepare the data. \n",
    "\n",
    "Unlike the previous notebook with the FastText model, we no longer explicitly need to create the bi-grams and append them to the end of the sentence."
   ]
  },
  {
   "cell_type": "code",
   "execution_count": 5,
   "metadata": {
    "pycharm": {
     "is_executing": false
    }
   },
   "outputs": [],
   "source": [
    "import torch\n",
    "from torchtext import data\n",
    "from torchtext import datasets\n",
    "import random\n",
    "\n",
    "SEED = 1234\n",
    "\n",
    "torch.manual_seed(SEED)\n",
    "torch.backends.cudnn.deterministic = True\n",
    "\n",
    "import spacy\n",
    "spacy_en = spacy.load('en_core_web_sm')\n",
    "\n",
    "def tokenizer(text): # create a tokenizer function\n",
    "    return [tok.text for tok in spacy_en.tokenizer(text)]\n",
    "\n",
    "TEXT = data.Field(tokenize = tokenizer)\n",
    "LABEL = data.LabelField(dtype = torch.float)\n",
    "\n",
    "train_data, test_data = datasets.IMDB.splits(TEXT, LABEL)\n",
    "\n",
    "train_data, valid_data = train_data.split(random_state = random.seed(SEED))"
   ]
  },
  {
   "cell_type": "markdown",
   "metadata": {},
   "source": [
    "Build the vocab and load the pre-trained word embeddings."
   ]
  },
  {
   "cell_type": "code",
   "execution_count": 6,
   "metadata": {
    "pycharm": {
     "is_executing": false
    }
   },
   "outputs": [
    {
     "name": "stderr",
     "text": [
      "\r.vector_cache\\glove.6B.zip: 0.00B [00:00, ?B/s]",
      "\r.vector_cache\\glove.6B.zip:   0%|          | 8.19k/862M [00:00<7:11:30, 33.3kB/s]",
      "\r.vector_cache\\glove.6B.zip:   0%|          | 1.29M/862M [00:00<5:01:56, 47.5kB/s]",
      "\r.vector_cache\\glove.6B.zip:   0%|          | 3.24M/862M [00:00<3:31:07, 67.8kB/s]",
      "\r.vector_cache\\glove.6B.zip:   1%|          | 5.11M/862M [00:00<2:27:41, 96.7kB/s]",
      "\r.vector_cache\\glove.6B.zip:   1%|          | 9.13M/862M [00:00<1:43:00, 138kB/s] ",
      "\r.vector_cache\\glove.6B.zip:   2%|▏         | 14.2M/862M [00:00<1:11:50, 197kB/s]",
      "\r.vector_cache\\glove.6B.zip:   2%|▏         | 20.8M/862M [00:01<50:00, 280kB/s]  ",
      "\r.vector_cache\\glove.6B.zip:   3%|▎         | 26.2M/862M [00:01<34:52, 399kB/s]",
      "\r.vector_cache\\glove.6B.zip:   4%|▍         | 32.7M/862M [00:01<24:17, 569kB/s]",
      "\r.vector_cache\\glove.6B.zip:   4%|▍         | 34.6M/862M [00:01<17:14, 800kB/s]",
      "\r.vector_cache\\glove.6B.zip:   5%|▌         | 44.4M/862M [00:01<11:58, 1.14MB/s]",
      "\r.vector_cache\\glove.6B.zip:   6%|▌         | 47.5M/862M [00:01<08:37, 1.58MB/s]",
      "\r.vector_cache\\glove.6B.zip:   6%|▌         | 47.9M/862M [00:01<07:04, 1.92MB/s]",
      "\r.vector_cache\\glove.6B.zip:   7%|▋         | 58.3M/862M [00:01<04:55, 2.72MB/s]",
      "\r.vector_cache\\glove.6B.zip:   7%|▋         | 59.4M/862M [00:02<03:47, 3.52MB/s]",
      "\r.vector_cache\\glove.6B.zip:   8%|▊         | 67.5M/862M [00:02<02:40, 4.94MB/s]",
      "\r.vector_cache\\glove.6B.zip:   9%|▉         | 76.8M/862M [00:02<01:54, 6.86MB/s]",
      "\r.vector_cache\\glove.6B.zip:  10%|▉         | 84.0M/862M [00:02<01:23, 9.29MB/s]",
      "\r.vector_cache\\glove.6B.zip:  11%|█         | 94.3M/862M [00:02<01:00, 12.8MB/s]",
      "\r.vector_cache\\glove.6B.zip:  12%|█▏        | 101M/862M [00:02<00:45, 16.9MB/s] ",
      "\r.vector_cache\\glove.6B.zip:  13%|█▎        | 111M/862M [00:02<00:33, 22.5MB/s]",
      "\r.vector_cache\\glove.6B.zip:  14%|█▍        | 123M/862M [00:02<00:24, 29.7MB/s]",
      "\r.vector_cache\\glove.6B.zip:  15%|█▍        | 126M/862M [00:02<00:34, 21.6MB/s]",
      "\r.vector_cache\\glove.6B.zip:  15%|█▌        | 133M/862M [00:03<00:26, 27.2MB/s]",
      "\r.vector_cache\\glove.6B.zip:  16%|█▌        | 134M/862M [00:03<00:48, 15.0MB/s]",
      "\r.vector_cache\\glove.6B.zip:  17%|█▋        | 144M/862M [00:03<00:35, 20.1MB/s]",
      "\r.vector_cache\\glove.6B.zip:  17%|█▋        | 145M/862M [00:03<01:25, 8.37MB/s]",
      "\r.vector_cache\\glove.6B.zip:  18%|█▊        | 155M/862M [00:03<01:01, 11.5MB/s]",
      "\r.vector_cache\\glove.6B.zip:  18%|█▊        | 156M/862M [00:04<01:37, 7.22MB/s]",
      "\r.vector_cache\\glove.6B.zip:  19%|█▉        | 162M/862M [00:04<01:11, 9.77MB/s]",
      "\r.vector_cache\\glove.6B.zip:  20%|█▉        | 172M/862M [00:04<00:51, 13.4MB/s]",
      "\r.vector_cache\\glove.6B.zip:  20%|██        | 174M/862M [00:04<01:07, 10.3MB/s]",
      "\r.vector_cache\\glove.6B.zip:  21%|██▏       | 185M/862M [00:04<00:48, 14.1MB/s]",
      "\r.vector_cache\\glove.6B.zip:  22%|██▏       | 189M/862M [00:05<00:43, 15.6MB/s]",
      "\r.vector_cache\\glove.6B.zip:  22%|██▏       | 193M/862M [00:05<00:35, 18.8MB/s]",
      "\r.vector_cache\\glove.6B.zip:  24%|██▎       | 204M/862M [00:05<00:26, 25.1MB/s]",
      "\r.vector_cache\\glove.6B.zip:  24%|██▍       | 211M/862M [00:05<00:24, 27.1MB/s]",
      "\r.vector_cache\\glove.6B.zip:  24%|██▍       | 211M/862M [00:05<02:35, 4.18MB/s]",
      "\r.vector_cache\\glove.6B.zip:  26%|██▌       | 223M/862M [00:05<01:48, 5.87MB/s]",
      "\r.vector_cache\\glove.6B.zip:  26%|██▌       | 224M/862M [00:05<01:49, 5.85MB/s]",
      "\r.vector_cache\\glove.6B.zip:  27%|██▋       | 235M/862M [00:05<01:17, 8.11MB/s]",
      "\r.vector_cache\\glove.6B.zip:  29%|██▊       | 246M/862M [00:06<00:54, 11.3MB/s]",
      "\r.vector_cache\\glove.6B.zip:  29%|██▉       | 254M/862M [00:06<00:40, 15.1MB/s]",
      "\r.vector_cache\\glove.6B.zip:  30%|██▉       | 257M/862M [00:06<00:40, 14.9MB/s]",
      "\r.vector_cache\\glove.6B.zip:  30%|███       | 261M/862M [00:06<00:35, 16.9MB/s]",
      "\r.vector_cache\\glove.6B.zip:  31%|███       | 264M/862M [00:06<00:39, 15.0MB/s]",
      "\r.vector_cache\\glove.6B.zip:  31%|███       | 268M/862M [00:06<00:32, 18.2MB/s]",
      "\r.vector_cache\\glove.6B.zip:  32%|███▏      | 278M/862M [00:07<00:25, 23.1MB/s]",
      "\r.vector_cache\\glove.6B.zip:  33%|███▎      | 288M/862M [00:07<00:19, 29.7MB/s]",
      "\r.vector_cache\\glove.6B.zip:  34%|███▍      | 293M/862M [00:07<00:30, 18.7MB/s]",
      "\r.vector_cache\\glove.6B.zip:  34%|███▍      | 296M/862M [00:07<00:25, 21.9MB/s]",
      "\r.vector_cache\\glove.6B.zip:  35%|███▍      | 300M/862M [00:07<00:23, 23.6MB/s]",
      "\r.vector_cache\\glove.6B.zip:  36%|███▌      | 310M/862M [00:08<00:18, 29.3MB/s]",
      "\r.vector_cache\\glove.6B.zip:  37%|███▋      | 317M/862M [00:08<00:20, 27.2MB/s]",
      "\r.vector_cache\\glove.6B.zip:  38%|███▊      | 324M/862M [00:08<00:16, 33.6MB/s]",
      "\r.vector_cache\\glove.6B.zip:  38%|███▊      | 328M/862M [00:08<00:18, 29.4MB/s]",
      "\r.vector_cache\\glove.6B.zip:  39%|███▉      | 338M/862M [00:08<00:17, 30.3MB/s]",
      "\r.vector_cache\\glove.6B.zip:  40%|███▉      | 342M/862M [00:09<00:22, 22.6MB/s]",
      "\r.vector_cache\\glove.6B.zip:  40%|████      | 345M/862M [00:09<00:22, 23.4MB/s]",
      "\r.vector_cache\\glove.6B.zip:  41%|████▏     | 357M/862M [00:09<00:16, 30.7MB/s]",
      "\r.vector_cache\\glove.6B.zip:  42%|████▏     | 366M/862M [00:09<00:12, 38.4MB/s]",
      "\r.vector_cache\\glove.6B.zip:  44%|████▎     | 377M/862M [00:09<00:11, 42.3MB/s]",
      "\r.vector_cache\\glove.6B.zip:  44%|████▍     | 378M/862M [00:09<00:21, 22.3MB/s]",
      "\r.vector_cache\\glove.6B.zip:  44%|████▍     | 383M/862M [00:10<00:18, 26.3MB/s]",
      "\r.vector_cache\\glove.6B.zip:  46%|████▌     | 394M/862M [00:10<00:14, 33.3MB/s]",
      "\r.vector_cache\\glove.6B.zip:  46%|████▌     | 396M/862M [00:10<00:51, 9.12MB/s]",
      "\r.vector_cache\\glove.6B.zip:  46%|████▌     | 396M/862M [00:11<3:58:42, 32.5kB/s]",
      "\r.vector_cache\\glove.6B.zip:  46%|████▋     | 400M/862M [00:11<2:45:48, 46.4kB/s]",
      "\r.vector_cache\\glove.6B.zip:  48%|████▊     | 410M/862M [00:12<1:53:31, 66.3kB/s]",
      "\r.vector_cache\\glove.6B.zip:  49%|████▉     | 422M/862M [00:12<1:17:28, 94.7kB/s]",
      "\r.vector_cache\\glove.6B.zip:  50%|█████     | 434M/862M [00:12<52:47, 135kB/s]   ",
      "\r.vector_cache\\glove.6B.zip:  50%|█████     | 435M/862M [00:12<37:28, 190kB/s]",
      "\r.vector_cache\\glove.6B.zip:  52%|█████▏    | 446M/862M [00:12<25:37, 271kB/s]",
      "\r.vector_cache\\glove.6B.zip:  52%|█████▏    | 448M/862M [00:13<18:35, 372kB/s]",
      "\r.vector_cache\\glove.6B.zip:  52%|█████▏    | 448M/862M [00:13<13:28, 512kB/s]",
      "\r.vector_cache\\glove.6B.zip:  52%|█████▏    | 450M/862M [00:13<09:31, 721kB/s]",
      "\r.vector_cache\\glove.6B.zip:  53%|█████▎    | 458M/862M [00:14<06:34, 1.03MB/s]",
      "\r.vector_cache\\glove.6B.zip:  54%|█████▍    | 469M/862M [00:14<04:29, 1.46MB/s]",
      "\r.vector_cache\\glove.6B.zip:  55%|█████▍    | 471M/862M [00:14<03:22, 1.93MB/s]",
      "\r.vector_cache\\glove.6B.zip:  55%|█████▍    | 473M/862M [00:14<02:28, 2.63MB/s]",
      "\r.vector_cache\\glove.6B.zip:  56%|█████▌    | 480M/862M [00:14<01:43, 3.70MB/s]",
      "\r.vector_cache\\glove.6B.zip:  57%|█████▋    | 491M/862M [00:14<01:11, 5.21MB/s]",
      "\r.vector_cache\\glove.6B.zip:  58%|█████▊    | 498M/862M [00:14<00:51, 7.07MB/s]",
      "\r.vector_cache\\glove.6B.zip:  59%|█████▉    | 510M/862M [00:14<00:35, 9.84MB/s]",
      "\r.vector_cache\\glove.6B.zip:  60%|██████    | 519M/862M [00:15<00:25, 13.4MB/s]",
      "\r.vector_cache\\glove.6B.zip:  61%|██████▏   | 529M/862M [00:15<00:18, 18.1MB/s]",
      "\r.vector_cache\\glove.6B.zip:  63%|██████▎   | 539M/862M [00:15<00:13, 24.0MB/s]",
      "\r.vector_cache\\glove.6B.zip:  63%|██████▎   | 542M/862M [00:15<00:23, 13.5MB/s]",
      "\r.vector_cache\\glove.6B.zip:  64%|██████▍   | 551M/862M [00:15<00:17, 18.1MB/s]",
      "\r.vector_cache\\glove.6B.zip:  65%|██████▌   | 562M/862M [00:15<00:12, 24.2MB/s]",
      "\r.vector_cache\\glove.6B.zip:  66%|██████▌   | 569M/862M [00:15<00:09, 30.0MB/s]",
      "\r.vector_cache\\glove.6B.zip:  67%|██████▋   | 574M/862M [00:16<00:08, 33.8MB/s]",
      "\r.vector_cache\\glove.6B.zip:  68%|██████▊   | 585M/862M [00:16<00:06, 42.7MB/s]",
      "\r.vector_cache\\glove.6B.zip:  68%|██████▊   | 587M/862M [00:16<00:15, 17.7MB/s]",
      "\r.vector_cache\\glove.6B.zip:  69%|██████▉   | 596M/862M [00:16<00:11, 23.2MB/s]",
      "\r.vector_cache\\glove.6B.zip:  70%|██████▉   | 603M/862M [00:16<00:10, 24.7MB/s]",
      "\r.vector_cache\\glove.6B.zip:  71%|███████   | 609M/862M [00:16<00:08, 29.5MB/s]",
      "\r.vector_cache\\glove.6B.zip:  71%|███████▏  | 616M/862M [00:16<00:07, 34.5MB/s]",
      "\r.vector_cache\\glove.6B.zip:  72%|███████▏  | 622M/862M [00:17<00:05, 40.3MB/s]",
      "\r.vector_cache\\glove.6B.zip:  73%|███████▎  | 630M/862M [00:17<00:04, 46.7MB/s]",
      "\r.vector_cache\\glove.6B.zip:  74%|███████▍  | 641M/862M [00:17<00:05, 40.1MB/s]",
      "\r.vector_cache\\glove.6B.zip:  75%|███████▍  | 646M/862M [00:19<00:22, 9.56MB/s]",
      "\r.vector_cache\\glove.6B.zip:  76%|███████▌  | 654M/862M [00:19<00:15, 13.0MB/s]",
      "\r.vector_cache\\glove.6B.zip:  76%|███████▌  | 657M/862M [00:19<00:13, 15.0MB/s]",
      "\r.vector_cache\\glove.6B.zip:  77%|███████▋  | 666M/862M [00:19<00:10, 17.8MB/s]",
      "\r.vector_cache\\glove.6B.zip:  78%|███████▊  | 676M/862M [00:19<00:07, 23.7MB/s]",
      "\r.vector_cache\\glove.6B.zip:  79%|███████▊  | 678M/862M [00:19<00:09, 19.3MB/s]",
      "\r.vector_cache\\glove.6B.zip:  79%|███████▊  | 679M/862M [00:20<01:08, 2.69MB/s]",
      "\r.vector_cache\\glove.6B.zip:  80%|███████▉  | 690M/862M [00:20<00:45, 3.80MB/s]",
      "\r.vector_cache\\glove.6B.zip:  81%|████████  | 700M/862M [00:20<00:31, 5.06MB/s]",
      "\r.vector_cache\\glove.6B.zip:  83%|████████▎ | 712M/862M [00:20<00:21, 7.09MB/s]",
      "\r.vector_cache\\glove.6B.zip:  83%|████████▎ | 716M/862M [00:20<00:15, 9.48MB/s]",
      "\r.vector_cache\\glove.6B.zip:  84%|████████▍ | 724M/862M [00:20<00:10, 12.7MB/s]",
      "\r.vector_cache\\glove.6B.zip:  85%|████████▌ | 734M/862M [00:21<00:07, 17.3MB/s]",
      "\r.vector_cache\\glove.6B.zip:  86%|████████▌ | 738M/862M [00:21<00:11, 10.6MB/s]",
      "\r.vector_cache\\glove.6B.zip:  86%|████████▌ | 738M/862M [00:22<1:05:30, 31.6kB/s]",
      "\r.vector_cache\\glove.6B.zip:  86%|████████▋ | 745M/862M [00:22<43:07, 45.2kB/s]  ",
      "\r.vector_cache\\glove.6B.zip:  87%|████████▋ | 754M/862M [00:22<27:49, 64.6kB/s]",
      "\r.vector_cache\\glove.6B.zip:  88%|████████▊ | 757M/862M [00:22<19:04, 92.1kB/s]",
      "\r.vector_cache\\glove.6B.zip:  89%|████████▉ | 769M/862M [00:22<11:49, 132kB/s] ",
      "\r.vector_cache\\glove.6B.zip:  89%|████████▉ | 771M/862M [00:23<08:08, 187kB/s]",
      "\r.vector_cache\\glove.6B.zip:  90%|████████▉ | 773M/862M [00:23<05:34, 267kB/s]",
      "\r.vector_cache\\glove.6B.zip:  91%|█████████ | 783M/862M [00:23<03:29, 380kB/s]",
      "\r.vector_cache\\glove.6B.zip:  91%|█████████ | 786M/862M [00:23<02:20, 541kB/s]",
      "\r.vector_cache\\glove.6B.zip:  92%|█████████▏| 797M/862M [00:23<01:24, 771kB/s]",
      "\r.vector_cache\\glove.6B.zip:  94%|█████████▎| 806M/862M [00:23<00:51, 1.09MB/s]",
      "\r.vector_cache\\glove.6B.zip:  94%|█████████▍| 809M/862M [00:23<00:34, 1.53MB/s]",
      "\r.vector_cache\\glove.6B.zip:  95%|█████████▍| 816M/862M [00:24<00:21, 2.13MB/s]",
      "\r.vector_cache\\glove.6B.zip:  96%|█████████▌| 828M/862M [00:24<00:11, 3.02MB/s]",
      "\r.vector_cache\\glove.6B.zip:  97%|█████████▋| 835M/862M [00:24<00:06, 4.22MB/s]",
      "\r.vector_cache\\glove.6B.zip:  98%|█████████▊| 842M/862M [00:24<00:03, 5.86MB/s]",
      "\r.vector_cache\\glove.6B.zip:  98%|█████████▊| 844M/862M [00:24<00:02, 6.94MB/s]",
      "\r.vector_cache\\glove.6B.zip:  98%|█████████▊| 848M/862M [00:24<00:01, 8.88MB/s]",
      "\r.vector_cache\\glove.6B.zip:  99%|█████████▉| 855M/862M [00:24<00:00, 12.0MB/s]",
      "\r.vector_cache\\glove.6B.zip: 862MB [00:24, 34.5MB/s]                           ",
      "\n",
      "\r  0%|          | 0/400000 [00:00<?, ?it/s]",
      "\r  0%|          | 1475/400000 [00:00<00:27, 14604.16it/s]",
      "\r  1%|          | 2953/400000 [00:00<00:27, 14612.99it/s]",
      "\r  1%|          | 4896/400000 [00:00<00:25, 15787.11it/s]",
      "\r  2%|▏         | 6552/400000 [00:00<00:24, 15965.00it/s]",
      "\r  2%|▏         | 8518/400000 [00:00<00:23, 16875.38it/s]",
      "\r  3%|▎         | 10454/400000 [00:00<00:22, 17503.56it/s]",
      "\r  3%|▎         | 12058/400000 [00:00<00:25, 15068.44it/s]",
      "\r  3%|▎         | 13926/400000 [00:00<00:24, 15955.26it/s]",
      "\r  4%|▍         | 15912/400000 [00:00<00:22, 16954.75it/s]",
      "\r  4%|▍         | 17802/400000 [00:01<00:21, 17447.26it/s]",
      "\r  5%|▍         | 19555/400000 [00:01<00:24, 15522.62it/s]",
      "\r  5%|▌         | 21480/400000 [00:01<00:23, 16437.76it/s]",
      "\r  6%|▌         | 23521/400000 [00:01<00:21, 17412.34it/s]",
      "\r  6%|▋         | 25478/400000 [00:01<00:20, 18007.94it/s]",
      "\r  7%|▋         | 27318/400000 [00:01<00:24, 15432.89it/s]",
      "\r  7%|▋         | 28953/400000 [00:01<00:23, 15518.51it/s]",
      "\r  8%|▊         | 30815/400000 [00:01<00:22, 16291.88it/s]",
      "\r  8%|▊         | 32707/400000 [00:01<00:21, 17000.24it/s]",
      "\r  9%|▊         | 34454/400000 [00:02<00:23, 15293.03it/s]",
      "\r  9%|▉         | 36254/400000 [00:02<00:22, 15973.19it/s]",
      "\r 10%|▉         | 38205/400000 [00:02<00:21, 16891.84it/s]",
      "\r 10%|█         | 40201/400000 [00:02<00:20, 17708.41it/s]",
      "\r 11%|█         | 42019/400000 [00:02<00:22, 15596.49it/s]",
      "\r 11%|█         | 43996/400000 [00:02<00:21, 16650.99it/s]",
      "\r 11%|█▏        | 45898/400000 [00:02<00:20, 17250.38it/s]",
      "\r 12%|█▏        | 47681/400000 [00:02<00:21, 16639.60it/s]",
      "\r 12%|█▏        | 49391/400000 [00:02<00:21, 16021.04it/s]",
      "\r 13%|█▎        | 51320/400000 [00:03<00:20, 16879.12it/s]",
      "\r 13%|█▎        | 53220/400000 [00:03<00:19, 17463.74it/s]",
      "\r 14%|█▎        | 54998/400000 [00:03<00:20, 17052.47it/s]",
      "\r 14%|█▍        | 56945/400000 [00:03<00:19, 17664.11it/s]",
      "\r 15%|█▍        | 58800/400000 [00:03<00:19, 17920.61it/s]",
      "\r 15%|█▌        | 60727/400000 [00:03<00:18, 18253.24it/s]",
      "\r 16%|█▌        | 62568/400000 [00:03<00:18, 18245.61it/s]",
      "\r 16%|█▌        | 64402/400000 [00:03<00:19, 16909.17it/s]",
      "\r 17%|█▋        | 66119/400000 [00:03<00:20, 16449.61it/s]",
      "\r 17%|█▋        | 67946/400000 [00:04<00:19, 16956.40it/s]",
      "\r 17%|█▋        | 69877/400000 [00:04<00:18, 17599.80it/s]",
      "\r 18%|█▊        | 71785/400000 [00:04<00:18, 17968.44it/s]",
      "\r 18%|█▊        | 73687/400000 [00:04<00:17, 18270.88it/s]",
      "\r 19%|█▉        | 75692/400000 [00:04<00:17, 18718.65it/s]",
      "\r 19%|█▉        | 77575/400000 [00:04<00:19, 16617.14it/s]",
      "\r 20%|█▉        | 79479/400000 [00:04<00:18, 17229.80it/s]",
      "\r 20%|██        | 81388/400000 [00:04<00:17, 17748.52it/s]",
      "\r 21%|██        | 83196/400000 [00:04<00:18, 17184.95it/s]",
      "\r 21%|██▏       | 85001/400000 [00:04<00:18, 17385.55it/s]",
      "\r 22%|██▏       | 86893/400000 [00:05<00:17, 17768.89it/s]",
      "\r 22%|██▏       | 88792/400000 [00:05<00:17, 18118.40it/s]",
      "\r 23%|██▎       | 90617/400000 [00:05<00:19, 15677.55it/s]",
      "\r 23%|██▎       | 92527/400000 [00:05<00:18, 16568.12it/s]",
      "\r 24%|██▎       | 94427/400000 [00:05<00:17, 17229.70it/s]",
      "\r 24%|██▍       | 96401/400000 [00:05<00:16, 17864.47it/s]",
      "\r 25%|██▍       | 98228/400000 [00:05<00:19, 15354.38it/s]",
      "\r 25%|██▌       | 100203/400000 [00:05<00:18, 16411.97it/s]",
      "\r 26%|██▌       | 102123/400000 [00:06<00:17, 17158.40it/s]",
      "\r 26%|██▌       | 104147/400000 [00:06<00:16, 17932.88it/s]",
      "\r 26%|██▋       | 105997/400000 [00:06<00:18, 16283.26it/s]",
      "\r 27%|██▋       | 107938/400000 [00:06<00:17, 17110.11it/s]",
      "\r 27%|██▋       | 109760/400000 [00:06<00:16, 17378.85it/s]",
      "\r 28%|██▊       | 111724/400000 [00:06<00:16, 17999.00it/s]",
      "\r 28%|██▊       | 113560/400000 [00:06<00:18, 15377.54it/s]",
      "\r 29%|██▉       | 115376/400000 [00:06<00:17, 16118.41it/s]",
      "\r 29%|██▉       | 117200/400000 [00:06<00:16, 16701.12it/s]",
      "\r 30%|██▉       | 118999/400000 [00:07<00:16, 17019.68it/s]",
      "\r 30%|███       | 120743/400000 [00:07<00:18, 15457.07it/s]",
      "\r 31%|███       | 122720/400000 [00:07<00:16, 16498.16it/s]",
      "\r 31%|███       | 124756/400000 [00:07<00:15, 17493.56it/s]",
      "\r 32%|███▏      | 126749/400000 [00:07<00:15, 18110.09it/s]",
      "\r 32%|███▏      | 128760/400000 [00:07<00:14, 18615.18it/s]",
      "\r 33%|███▎      | 130704/400000 [00:07<00:14, 18855.07it/s]",
      "\r 33%|███▎      | 132690/400000 [00:07<00:13, 19144.51it/s]",
      "\r 34%|███▎      | 134624/400000 [00:07<00:16, 16210.13it/s]",
      "\r 34%|███▍      | 136336/400000 [00:08<00:16, 16146.48it/s]",
      "\r 35%|███▍      | 138015/400000 [00:08<00:17, 15223.42it/s]",
      "\r 35%|███▍      | 139941/400000 [00:08<00:16, 16203.88it/s]",
      "\r 35%|███▌      | 141618/400000 [00:08<00:16, 15593.40it/s]",
      "\r 36%|███▌      | 143508/400000 [00:08<00:15, 16457.05it/s]",
      "\r 36%|███▋      | 145454/400000 [00:08<00:14, 17210.32it/s]",
      "\r 37%|███▋      | 147386/400000 [00:08<00:14, 17793.13it/s]",
      "\r 37%|███▋      | 149282/400000 [00:08<00:13, 18076.05it/s]",
      "\r 38%|███▊      | 151114/400000 [00:08<00:16, 15248.25it/s]",
      "\r 38%|███▊      | 152732/400000 [00:09<00:16, 15427.61it/s]",
      "\r 39%|███▊      | 154340/400000 [00:09<00:16, 15305.41it/s]",
      "\r 39%|███▉      | 155917/400000 [00:09<00:16, 14504.45it/s]",
      "\r 39%|███▉      | 157823/400000 [00:09<00:15, 15586.63it/s]",
      "\r 40%|███▉      | 159841/400000 [00:09<00:14, 16728.94it/s]",
      "\r 40%|████      | 161824/400000 [00:09<00:13, 17505.98it/s]",
      "\r 41%|████      | 163626/400000 [00:09<00:15, 15354.85it/s]",
      "\r 41%|████▏     | 165381/400000 [00:09<00:14, 15910.25it/s]",
      "\r 42%|████▏     | 167189/400000 [00:09<00:14, 16459.41it/s]",
      "\r 42%|████▏     | 169096/400000 [00:10<00:13, 17164.24it/s]",
      "\r 43%|████▎     | 170855/400000 [00:10<00:14, 15799.00it/s]",
      "\r 43%|████▎     | 172854/400000 [00:10<00:13, 16859.38it/s]",
      "\r 44%|████▎     | 174848/400000 [00:10<00:12, 17678.76it/s]",
      "\r 44%|████▍     | 176712/400000 [00:10<00:12, 17956.54it/s]",
      "\r 45%|████▍     | 178544/400000 [00:10<00:13, 16282.09it/s]",
      "\r 45%|████▌     | 180455/400000 [00:10<00:12, 17037.07it/s]",
      "\r 46%|████▌     | 182319/400000 [00:10<00:12, 17440.58it/s]",
      "\r 46%|████▌     | 184257/400000 [00:10<00:11, 17980.37it/s]",
      "\r 47%|████▋     | 186085/400000 [00:11<00:13, 15456.61it/s]",
      "\r 47%|████▋     | 187789/400000 [00:11<00:13, 15899.44it/s]",
      "\r 47%|████▋     | 189766/400000 [00:11<00:12, 16848.91it/s]",
      "\r 48%|████▊     | 191813/400000 [00:11<00:11, 17746.90it/s]",
      "\r 48%|████▊     | 193642/400000 [00:11<00:12, 16023.62it/s]",
      "\r 49%|████▉     | 195454/400000 [00:11<00:12, 16554.52it/s]",
      "\r 49%|████▉     | 197432/400000 [00:11<00:11, 17360.19it/s]",
      "\r 50%|████▉     | 199216/400000 [00:11<00:11, 17247.50it/s]",
      "\r 50%|█████     | 200975/400000 [00:11<00:12, 16564.59it/s]",
      "\r 51%|█████     | 202661/400000 [00:12<00:12, 15988.93it/s]",
      "\r 51%|█████     | 204379/400000 [00:12<00:11, 16328.39it/s]",
      "\r 52%|█████▏    | 206170/400000 [00:12<00:11, 16725.25it/s]",
      "\r 52%|█████▏    | 208112/400000 [00:12<00:11, 17405.55it/s]",
      "\r 53%|█████▎    | 210028/400000 [00:12<00:10, 17847.19it/s]",
      "\r 53%|█████▎    | 211829/400000 [00:12<00:11, 15946.68it/s]",
      "\r 53%|█████▎    | 213739/400000 [00:12<00:11, 16733.31it/s]",
      "\r 54%|█████▍    | 215592/400000 [00:12<00:10, 17187.02it/s]",
      "\r 54%|█████▍    | 217345/400000 [00:12<00:10, 17237.31it/s]",
      "\r 55%|█████▍    | 219093/400000 [00:13<00:12, 15032.05it/s]",
      "\r 55%|█████▌    | 220739/400000 [00:13<00:11, 15390.50it/s]",
      "\r 56%|█████▌    | 222693/400000 [00:13<00:10, 16396.34it/s]",
      "\r 56%|█████▌    | 224695/400000 [00:13<00:10, 17337.73it/s]",
      "\r 57%|█████▋    | 226481/400000 [00:13<00:10, 15902.55it/s]",
      "\r 57%|█████▋    | 228487/400000 [00:13<00:10, 16914.03it/s]",
      "\r 58%|█████▊    | 230391/400000 [00:13<00:09, 17500.23it/s]",
      "\r 58%|█████▊    | 232344/400000 [00:13<00:09, 18013.47it/s]",
      "\r 59%|█████▊    | 234182/400000 [00:13<00:09, 17550.65it/s]",
      "\r 59%|█████▉    | 236064/400000 [00:13<00:09, 17862.20it/s]",
      "\r 59%|█████▉    | 237878/400000 [00:14<00:09, 17891.32it/s]",
      "\r 60%|█████▉    | 239760/400000 [00:14<00:08, 18108.04it/s]",
      "\r 60%|██████    | 241632/400000 [00:14<00:08, 18287.37it/s]",
      "\r 61%|██████    | 243469/400000 [00:14<00:08, 17884.08it/s]",
      "\r 61%|██████▏   | 245296/400000 [00:14<00:08, 17945.28it/s]",
      "\r 62%|██████▏   | 247248/400000 [00:14<00:08, 18388.86it/s]",
      "\r 62%|██████▏   | 249229/400000 [00:14<00:08, 18793.22it/s]",
      "\r 63%|██████▎   | 251116/400000 [00:14<00:09, 16242.43it/s]",
      "\r 63%|██████▎   | 252822/400000 [00:14<00:08, 16431.80it/s]",
      "\r 64%|██████▎   | 254843/400000 [00:15<00:08, 17363.25it/s]",
      "\r 64%|██████▍   | 256627/400000 [00:15<00:08, 17503.57it/s]",
      "\r 65%|██████▍   | 258411/400000 [00:15<00:08, 15907.79it/s]",
      "\r 65%|██████▌   | 260053/400000 [00:15<00:08, 16010.60it/s]",
      "\r 65%|██████▌   | 261988/400000 [00:15<00:08, 16884.70it/s]",
      "\r 66%|██████▌   | 263995/400000 [00:15<00:07, 17682.71it/s]",
      "\r 66%|██████▋   | 265800/400000 [00:15<00:08, 15420.15it/s]",
      "\r 67%|██████▋   | 267745/400000 [00:15<00:08, 16442.12it/s]",
      "\r 67%|██████▋   | 269463/400000 [00:15<00:07, 16465.17it/s]",
      "\r 68%|██████▊   | 271235/400000 [00:16<00:07, 16774.77it/s]",
      "\r 68%|██████▊   | 272950/400000 [00:16<00:07, 16213.78it/s]",
      "\r 69%|██████▊   | 274919/400000 [00:16<00:07, 17077.37it/s]",
      "\r 69%|██████▉   | 276773/400000 [00:16<00:07, 17490.96it/s]",
      "\r 70%|██████▉   | 278583/400000 [00:16<00:06, 17618.12it/s]",
      "\r 70%|███████   | 280512/400000 [00:16<00:06, 18037.69it/s]",
      "\r 71%|███████   | 282447/400000 [00:16<00:06, 18410.75it/s]",
      "\r 71%|███████   | 284301/400000 [00:16<00:07, 16265.63it/s]",
      "\r 72%|███████▏  | 286091/400000 [00:16<00:06, 16723.71it/s]",
      "\r 72%|███████▏  | 287986/400000 [00:16<00:06, 17287.22it/s]",
      "\r 72%|███████▏  | 289839/400000 [00:17<00:06, 17642.09it/s]",
      "\r 73%|███████▎  | 291629/400000 [00:17<00:06, 15508.04it/s]",
      "\r 73%|███████▎  | 293591/400000 [00:17<00:06, 16506.96it/s]",
      "\r 74%|███████▍  | 295592/400000 [00:17<00:06, 17376.58it/s]",
      "\r 74%|███████▍  | 297573/400000 [00:17<00:05, 17992.29it/s]",
      "\r 75%|███████▍  | 299418/400000 [00:17<00:06, 16172.64it/s]",
      "\r 75%|███████▌  | 301335/400000 [00:17<00:05, 16967.41it/s]",
      "\r 76%|███████▌  | 303188/400000 [00:17<00:05, 17360.25it/s]",
      "\r 76%|███████▌  | 304966/400000 [00:17<00:05, 17432.51it/s]",
      "\r 77%|███████▋  | 306898/400000 [00:18<00:05, 17907.58it/s]",
      "\r 77%|███████▋  | 308876/400000 [00:18<00:04, 18381.14it/s]",
      "\r 78%|███████▊  | 310833/400000 [00:18<00:04, 18722.34it/s]",
      "\r 78%|███████▊  | 312721/400000 [00:18<00:05, 16504.90it/s]",
      "\r 79%|███████▊  | 314432/400000 [00:18<00:05, 16633.27it/s]",
      "\r 79%|███████▉  | 316400/400000 [00:18<00:04, 17442.15it/s]",
      "\r 80%|███████▉  | 318351/400000 [00:18<00:04, 18014.88it/s]",
      "\r 80%|████████  | 320185/400000 [00:18<00:05, 15535.13it/s]",
      "\r 80%|████████  | 321941/400000 [00:18<00:04, 16091.79it/s]",
      "\r 81%|████████  | 323876/400000 [00:19<00:04, 16903.66it/s]",
      "\r 81%|████████▏ | 325802/400000 [00:19<00:04, 17546.20it/s]",
      "\r 82%|████████▏ | 327602/400000 [00:19<00:04, 16333.59it/s]",
      "\r 82%|████████▏ | 329320/400000 [00:19<00:04, 16530.15it/s]",
      "\r 83%|████████▎ | 331268/400000 [00:19<00:03, 17271.46it/s]",
      "\r 83%|████████▎ | 333256/400000 [00:19<00:03, 17930.57it/s]",
      "\r 84%|████████▍ | 335079/400000 [00:19<00:04, 16194.55it/s]",
      "\r 84%|████████▍ | 336751/400000 [00:19<00:03, 15882.84it/s]",
      "\r 85%|████████▍ | 338580/400000 [00:19<00:03, 16535.71it/s]",
      "\r 85%|████████▌ | 340471/400000 [00:20<00:03, 17182.77it/s]",
      "\r 86%|████████▌ | 342220/400000 [00:20<00:03, 16399.30it/s]",
      "\r 86%|████████▌ | 344135/400000 [00:20<00:03, 17137.76it/s]",
      "\r 87%|████████▋ | 346066/400000 [00:20<00:03, 17736.22it/s]",
      "\r 87%|████████▋ | 347946/400000 [00:20<00:02, 17990.81it/s]",
      "\r 87%|████████▋ | 349961/400000 [00:20<00:02, 18537.09it/s]",
      "\r 88%|████████▊ | 351965/400000 [00:20<00:02, 18910.08it/s]",
      "\r 88%|████████▊ | 353870/400000 [00:20<00:02, 16237.87it/s]",
      "\r 89%|████████▉ | 355599/400000 [00:20<00:02, 16492.55it/s]",
      "\r 89%|████████▉ | 357303/400000 [00:21<00:02, 16460.03it/s]",
      "\r 90%|████████▉ | 358987/400000 [00:21<00:02, 16236.60it/s]",
      "\r 90%|█████████ | 360808/400000 [00:21<00:02, 16735.97it/s]",
      "\r 91%|█████████ | 362738/400000 [00:21<00:02, 17429.95it/s]",
      "\r 91%|█████████ | 364726/400000 [00:21<00:01, 18050.57it/s]",
      "\r 92%|█████████▏| 366554/400000 [00:21<00:02, 15732.92it/s]",
      "\r 92%|█████████▏| 368528/400000 [00:21<00:01, 16710.67it/s]",
      "\r 93%|█████████▎| 370531/400000 [00:21<00:01, 17538.72it/s]",
      "\r 93%|█████████▎| 372427/400000 [00:21<00:01, 17942.06it/s]",
      "\r 94%|█████████▎| 374263/400000 [00:22<00:01, 15463.57it/s]",
      "\r 94%|█████████▍| 375910/400000 [00:22<00:01, 15751.42it/s]",
      "\r 94%|█████████▍| 377763/400000 [00:22<00:01, 16493.31it/s]",
      "\r 95%|█████████▍| 379530/400000 [00:22<00:01, 16782.68it/s]",
      "\r 95%|█████████▌| 381248/400000 [00:22<00:01, 14918.70it/s]",
      "\r 96%|█████████▌| 382979/400000 [00:22<00:01, 15521.95it/s]",
      "\r 96%|█████████▌| 384886/400000 [00:22<00:00, 16439.45it/s]",
      "\r 97%|█████████▋| 386816/400000 [00:22<00:00, 17204.41it/s]",
      "\r 97%|█████████▋| 388582/400000 [00:22<00:00, 14734.68it/s]",
      "\r 98%|█████████▊| 390267/400000 [00:23<00:00, 15146.19it/s]",
      "\r 98%|█████████▊| 392168/400000 [00:23<00:00, 16088.83it/s]",
      "\r 98%|█████████▊| 393849/400000 [00:23<00:00, 16298.54it/s]",
      "\r 99%|█████████▉| 395615/400000 [00:23<00:00, 16637.29it/s]",
      "\r 99%|█████████▉| 397523/400000 [00:23<00:00, 17300.31it/s]",
      "\r100%|█████████▉| 399418/400000 [00:23<00:00, 17715.99it/s]"
     ],
     "output_type": "stream"
    }
   ],
   "source": [
    "MAX_VOCAB_SIZE = 25_000\n",
    "\n",
    "TEXT.build_vocab(train_data, \n",
    "                 max_size = MAX_VOCAB_SIZE, \n",
    "                 vectors = \"glove.6B.100d\", \n",
    "                 unk_init = torch.Tensor.normal_)\n",
    "\n",
    "LABEL.build_vocab(train_data)"
   ]
  },
  {
   "cell_type": "markdown",
   "metadata": {},
   "source": [
    "As before, we create the iterators."
   ]
  },
  {
   "cell_type": "code",
   "execution_count": 7,
   "metadata": {
    "pycharm": {
     "is_executing": false
    }
   },
   "outputs": [],
   "source": [
    "BATCH_SIZE = 64\n",
    "\n",
    "device = torch.device('cuda' if torch.cuda.is_available() else 'cpu')\n",
    "\n",
    "train_iterator, valid_iterator, test_iterator = data.BucketIterator.splits(\n",
    "    (train_data, valid_data, test_data), \n",
    "    batch_size = BATCH_SIZE, \n",
    "    device = device)"
   ]
  },
  {
   "cell_type": "markdown",
   "metadata": {},
   "source": [
    "## Build the Model\n",
    "\n",
    "Now to build our model.\n",
    "\n",
    "The first major hurdle is visualizing how CNNs are used for text. Images are typically 2 dimensional (we'll ignore the fact that there is a third \"colour\" dimension for now) whereas text is 1 dimensional. However, we know that the first step in almost all of our previous tutorials (and pretty much all NLP pipelines) is converting the words into word embeddings. This is how we can visualize our words in 2 dimensions, each word along one axis and the elements of vectors aross the other dimension. Consider the 2 dimensional representation of the embedded sentence below:\n",
    "\n",
    "![](assets/sentiment9.png)\n",
    "\n",
    "We can then use a filter that is **[n x emb_dim]**. This will cover $n$ sequential words entirely, as their width will be `emb_dim` dimensions. Consider the image below, with our word vectors are represented in green. Here we have 4 words with 5 dimensional embeddings, creating a [4x5] \"image\" tensor. A filter that covers two words at a time (i.e. bi-grams) will be **[2x5]** filter, shown in yellow, and each element of the filter with have a _weight_ associated with it. The output of this filter (shown in red) will be a single real number that is the weighted sum of all elements covered by the filter.\n",
    "\n",
    "![](assets/sentiment12.png)\n",
    "\n",
    "The filter then moves \"down\" the image (or across the sentence) to cover the next bi-gram and another output (weighted sum) is calculated. \n",
    "\n",
    "![](assets/sentiment13.png)\n",
    "\n",
    "Finally, the filter moves down again and the final output for this filter is calculated.\n",
    "\n",
    "![](assets/sentiment14.png)\n",
    "\n",
    "In our case (and in the general case where the width of the filter equals the width of the \"image\"), our output will be a vector with number of elements equal to the height of the image (or lenth of the word) minus the height of the filter plus one, $4-2+1=3$ in this case.\n",
    "\n",
    "This example showed how to calculate the output of one filter. Our model (and pretty much all CNNs) will have lots of these filters. The idea is that each filter will learn a different feature to extract. In the above example, we are hoping each of the **[2 x emb_dim]** filters will be looking for the occurence of different bi-grams. \n",
    "\n",
    "In our model, we will also have different sizes of filters, heights of 3, 4 and 5, with 100 of each of them. The intuition is that we will be looking for the occurence of different tri-grams, 4-grams and 5-grams that are relevant for analysing sentiment of movie reviews.\n",
    "\n",
    "The next step in our model is to use *pooling* (specifically *max pooling*) on the output of the convolutional layers. This is similar to the FastText model where we performed the average over each of the word vectors, implemented by the `F.avg_pool2d` function, however instead of taking the average over a dimension, we are taking the maximum value over a dimension. Below an example of taking the maximum value (0.9) from the output of the convolutional layer on the example sentence (not shown is the activation function applied to the output of the convolutions).\n",
    "\n",
    "![](assets/sentiment15.png)\n",
    "\n",
    "The idea here is that the maximum value is the \"most important\" feature for determining the sentiment of the review, which corresponds to the \"most important\" n-gram within the review. How do we know what the \"most important\" n-gram is? Luckily, we don't have to! Through backpropagation, the weights of the filters are changed so that whenever certain n-grams that are highly indicative of the sentiment are seen, the output of the filter is a \"high\" value. This \"high\" value then passes through the max pooling layer if it is the maximum value in the output. \n",
    "\n",
    "As our model has 100 filters of 3 different sizes, that means we have 300 different n-grams the model thinks are important. We concatenate these together into a single vector and pass them through a linear layer to predict the sentiment. We can think of the weights of this linear layer as \"weighting up the evidence\" from each of the 300 n-grams and making a final decision. \n",
    "\n",
    "### Implementation Details\n",
    "\n",
    "We implement the convolutional layers with `nn.Conv2d`. The `in_channels` argument is the number of \"channels\" in your image going into the convolutional layer. In actual images this is usually 3 (one channel for each of the red, blue and green channels), however when using text we only have a single channel, the text itself. The `out_channels` is the number of filters and the `kernel_size` is the size of the filters. Each of our `kernel_size`s is going to be **[n x emb_dim]** where $n$ is the size of the n-grams.\n",
    "\n",
    "In PyTorch, RNNs want the input with the batch dimension second, whereas CNNs want the batch dimension first. Thus, the first thing we do to our input is `permute` it to make it the correct shape. We then pass the sentence through an embedding layer to get our embeddings. The second dimension of the input into a `nn.Conv2d` layer must be the channel dimension. As text technically does not have a channel dimension, we `unsqueeze` our tensor to create one. This matches with our `in_channels=1` in the initialization of our convolutional layers. \n",
    "\n",
    "We then pass the tensors through the convolutional and pooling layers, using the `ReLU` activation function after the convolutional layers. Another nice feature of the pooling layers is that they handle sentences of different lengths. The size of the output of the convolutional layer is dependent on the size of the input to it, and different batches contain sentences of different lengths. Without the max pooling layer the input to our linear layer would depend on the size of the input sentence (not what we want). One option to rectify this would be to trim/pad all sentences to the same length, however with the max pooling layer we always know the input to the linear layer will be the total number of filters. **Note**: there an exception to this if your sentence(s) are shorter than the largest filter used. You will then have to pad your sentences to the length of the largest filter. In the IMDb data there are no reviews only 5 words long so we don't have to worry about that, but you will if you are using your own data.\n",
    "\n",
    "Finally, we perform dropout on the concatenated filter outputs and then pass them through a linear layer to make our predictions."
   ]
  },
  {
   "cell_type": "code",
   "execution_count": 8,
   "metadata": {
    "pycharm": {
     "is_executing": false
    }
   },
   "outputs": [],
   "source": [
    "import torch.nn as nn\n",
    "import torch.nn.functional as F\n",
    "\n",
    "class CNN(nn.Module):\n",
    "    def __init__(self, vocab_size, embedding_dim, n_filters, filter_sizes, output_dim, \n",
    "                 dropout, pad_idx):\n",
    "        \n",
    "        super().__init__()\n",
    "        \n",
    "        self.embedding = nn.Embedding(vocab_size, embedding_dim, padding_idx = pad_idx)\n",
    "        \n",
    "        self.conv_0 = nn.Conv2d(in_channels = 1, \n",
    "                                out_channels = n_filters, \n",
    "                                kernel_size = (filter_sizes[0], embedding_dim))\n",
    "        \n",
    "        self.conv_1 = nn.Conv2d(in_channels = 1, \n",
    "                                out_channels = n_filters, \n",
    "                                kernel_size = (filter_sizes[1], embedding_dim))\n",
    "        \n",
    "        self.conv_2 = nn.Conv2d(in_channels = 1, \n",
    "                                out_channels = n_filters, \n",
    "                                kernel_size = (filter_sizes[2], embedding_dim))\n",
    "        \n",
    "        self.fc = nn.Linear(len(filter_sizes) * n_filters, output_dim)\n",
    "        \n",
    "        self.dropout = nn.Dropout(dropout)\n",
    "        \n",
    "    def forward(self, text):\n",
    "        \n",
    "        #text = [sent len, batch size]\n",
    "        \n",
    "        text = text.permute(1, 0)\n",
    "                \n",
    "        #text = [batch size, sent len]\n",
    "        \n",
    "        embedded = self.embedding(text)\n",
    "                \n",
    "        #embedded = [batch size, sent len, emb dim]\n",
    "        \n",
    "        embedded = embedded.unsqueeze(1)\n",
    "        \n",
    "        #embedded = [batch size, 1, sent len, emb dim]\n",
    "        \n",
    "        conved_0 = F.relu(self.conv_0(embedded).squeeze(3))\n",
    "        conved_1 = F.relu(self.conv_1(embedded).squeeze(3))\n",
    "        conved_2 = F.relu(self.conv_2(embedded).squeeze(3))\n",
    "            \n",
    "        #conved_n = [batch size, n_filters, sent len - filter_sizes[n] + 1]\n",
    "        \n",
    "        pooled_0 = F.max_pool1d(conved_0, conved_0.shape[2]).squeeze(2)\n",
    "        pooled_1 = F.max_pool1d(conved_1, conved_1.shape[2]).squeeze(2)\n",
    "        pooled_2 = F.max_pool1d(conved_2, conved_2.shape[2]).squeeze(2)\n",
    "        \n",
    "        #pooled_n = [batch size, n_filters]\n",
    "        \n",
    "        cat = self.dropout(torch.cat((pooled_0, pooled_1, pooled_2), dim = 1))\n",
    "\n",
    "        #cat = [batch size, n_filters * len(filter_sizes)]\n",
    "            \n",
    "        return self.fc(cat)"
   ]
  },
  {
   "cell_type": "markdown",
   "metadata": {},
   "source": [
    "Currently the `CNN` model can only use 3 different sized filters, but we can actually improve the code of our model to make it more generic and take any number of filters.\n",
    "\n",
    "We do this by placing all of our convolutional layers in a  `nn.ModuleList`, a function used to hold a list of PyTorch `nn.Module`s. If we simply used a standard Python list, the modules within the list cannot be \"seen\" by any modules outside the list which will cause us some errors.\n",
    "\n",
    "We can now pass an arbitrary sized list of filter sizes and the list comprehension will create a convolutional layer for each of them. Then, in the `forward` method we iterate through the list applying each convolutional layer to get a list of convolutional outputs, which we also feed through the max pooling in a list comprehension before concatenating together and passing through the dropout and linear layers."
   ]
  },
  {
   "cell_type": "code",
   "execution_count": null,
   "metadata": {
    "pycharm": {
     "is_executing": false
    }
   },
   "outputs": [],
   "source": [
    "class CNN(nn.Module):\n",
    "    def __init__(self, vocab_size, embedding_dim, n_filters, filter_sizes, output_dim, \n",
    "                 dropout, pad_idx):\n",
    "        \n",
    "        super().__init__()\n",
    "                \n",
    "        self.embedding = nn.Embedding(vocab_size, embedding_dim, padding_idx = pad_idx)\n",
    "        \n",
    "        self.convs = nn.ModuleList([\n",
    "                                    nn.Conv2d(in_channels = 1, \n",
    "                                              out_channels = n_filters, \n",
    "                                              kernel_size = (fs, embedding_dim)) \n",
    "                                    for fs in filter_sizes\n",
    "                                    ])\n",
    "        \n",
    "        self.fc = nn.Linear(len(filter_sizes) * n_filters, output_dim)\n",
    "        \n",
    "        self.dropout = nn.Dropout(dropout)\n",
    "        \n",
    "    def forward(self, text):\n",
    "        \n",
    "        #text = [sent len, batch size]\n",
    "        \n",
    "        text = text.permute(1, 0)\n",
    "                \n",
    "        #text = [batch size, sent len]\n",
    "        \n",
    "        embedded = self.embedding(text)\n",
    "                \n",
    "        #embedded = [batch size, sent len, emb dim]\n",
    "        \n",
    "        embedded = embedded.unsqueeze(1)\n",
    "        \n",
    "        #embedded = [batch size, 1, sent len, emb dim]\n",
    "        \n",
    "        conved = [F.relu(conv(embedded)).squeeze(3) for conv in self.convs]\n",
    "            \n",
    "        #conved_n = [batch size, n_filters, sent len - filter_sizes[n] + 1]\n",
    "                \n",
    "        pooled = [F.max_pool1d(conv, conv.shape[2]).squeeze(2) for conv in conved]\n",
    "        \n",
    "        #pooled_n = [batch size, n_filters]\n",
    "        \n",
    "        cat = self.dropout(torch.cat(pooled, dim = 1))\n",
    "\n",
    "        #cat = [batch size, n_filters * len(filter_sizes)]\n",
    "            \n",
    "        return self.fc(cat)"
   ]
  },
  {
   "cell_type": "markdown",
   "metadata": {},
   "source": [
    "We can also implement the above model using 1-dimensional convolutional layers, where the embedding dimension is the \"depth\" of the filter and the number of tokens in the sentence is the width.\n",
    "\n",
    "We'll run our tests in this notebook using the 2-dimensional convolutional model, but leave the implementation for the 1-dimensional model below for anyone interested. "
   ]
  },
  {
   "cell_type": "code",
   "execution_count": null,
   "metadata": {
    "pycharm": {
     "is_executing": false
    }
   },
   "outputs": [],
   "source": [
    "class CNN1d(nn.Module):\n",
    "    def __init__(self, vocab_size, embedding_dim, n_filters, filter_sizes, output_dim, \n",
    "                 dropout, pad_idx):\n",
    "        \n",
    "        super().__init__()\n",
    "        \n",
    "        self.embedding = nn.Embedding(vocab_size, embedding_dim, padding_idx = pad_idx)\n",
    "        \n",
    "        self.convs = nn.ModuleList([\n",
    "                                    nn.Conv1d(in_channels = embedding_dim, \n",
    "                                              out_channels = n_filters, \n",
    "                                              kernel_size = fs)\n",
    "                                    for fs in filter_sizes\n",
    "                                    ])\n",
    "        \n",
    "        self.fc = nn.Linear(len(filter_sizes) * n_filters, output_dim)\n",
    "        \n",
    "        self.dropout = nn.Dropout(dropout)\n",
    "        \n",
    "    def forward(self, text):\n",
    "        \n",
    "        #text = [sent len, batch size]\n",
    "        \n",
    "        text = text.permute(1, 0)\n",
    "        \n",
    "        #text = [batch size, sent len]\n",
    "        \n",
    "        embedded = self.embedding(text)\n",
    "                \n",
    "        #embedded = [batch size, sent len, emb dim]\n",
    "        \n",
    "        embedded = embedded.permute(0, 2, 1)\n",
    "        \n",
    "        #embedded = [batch size, emb dim, sent len]\n",
    "        \n",
    "        conved = [F.relu(conv(embedded)) for conv in self.convs]\n",
    "            \n",
    "        #conved_n = [batch size, n_filters, sent len - filter_sizes[n] + 1]\n",
    "        \n",
    "        pooled = [F.max_pool1d(conv, conv.shape[2]).squeeze(2) for conv in conved]\n",
    "        \n",
    "        #pooled_n = [batch size, n_filters]\n",
    "        \n",
    "        cat = self.dropout(torch.cat(pooled, dim = 1))\n",
    "        \n",
    "        #cat = [batch size, n_filters * len(filter_sizes)]\n",
    "            \n",
    "        return self.fc(cat)"
   ]
  },
  {
   "cell_type": "markdown",
   "metadata": {},
   "source": [
    "We create an instance of our `CNN` class. \n",
    "\n",
    "We can change `CNN` to `CNN1d` if we want to run the 1-dimensional convolutional model, noting that both models give almost identical results."
   ]
  },
  {
   "cell_type": "code",
   "execution_count": 9,
   "metadata": {
    "pycharm": {
     "is_executing": false
    }
   },
   "outputs": [],
   "source": [
    "INPUT_DIM = len(TEXT.vocab)\n",
    "EMBEDDING_DIM = 100\n",
    "N_FILTERS = 100\n",
    "FILTER_SIZES = [3,4,5]\n",
    "OUTPUT_DIM = 1\n",
    "DROPOUT = 0.5\n",
    "PAD_IDX = TEXT.vocab.stoi[TEXT.pad_token]\n",
    "\n",
    "model = CNN(INPUT_DIM, EMBEDDING_DIM, N_FILTERS, FILTER_SIZES, OUTPUT_DIM, DROPOUT, PAD_IDX)"
   ]
  },
  {
   "cell_type": "markdown",
   "metadata": {},
   "source": [
    "Checking the number of parameters in our model we can see it has about the same as the FastText model. \n",
    "\n",
    "Both the `CNN` and the `CNN1d` models have the exact same number of parameters."
   ]
  },
  {
   "cell_type": "code",
   "execution_count": 10,
   "metadata": {
    "pycharm": {
     "is_executing": false
    }
   },
   "outputs": [
    {
     "name": "stdout",
     "text": [
      "The model has 2,620,801 trainable parameters",
      "\n"
     ],
     "output_type": "stream"
    }
   ],
   "source": [
    "def count_parameters(model):\n",
    "    return sum(p.numel() for p in model.parameters() if p.requires_grad)\n",
    "\n",
    "print(f'The model has {count_parameters(model):,} trainable parameters')"
   ]
  },
  {
   "cell_type": "markdown",
   "metadata": {},
   "source": [
    "Next, we'll load the pre-trained embeddings"
   ]
  },
  {
   "cell_type": "code",
   "execution_count": 11,
   "metadata": {
    "pycharm": {
     "is_executing": false
    }
   },
   "outputs": [
    {
     "data": {
      "text/plain": "tensor([[-0.1117, -0.4966,  0.1631,  ...,  1.2647, -0.2753, -0.1325],\n        [-0.8555, -0.7208,  1.3755,  ...,  0.0825, -1.1314,  0.3997],\n        [-0.0382, -0.2449,  0.7281,  ..., -0.1459,  0.8278,  0.2706],\n        ...,\n        [-0.8936, -1.2402,  0.4131,  ...,  0.0515,  0.4817,  1.1054],\n        [-0.1386,  0.1180,  0.3534,  ...,  0.1226,  0.5973, -0.1702],\n        [-0.0786,  0.0541, -0.0993,  ...,  0.2565, -0.1874, -0.4428]])"
     },
     "metadata": {},
     "output_type": "execute_result",
     "execution_count": 11
    }
   ],
   "source": [
    "pretrained_embeddings = TEXT.vocab.vectors\n",
    "\n",
    "model.embedding.weight.data.copy_(pretrained_embeddings)"
   ]
  },
  {
   "cell_type": "markdown",
   "metadata": {},
   "source": [
    "Then zero the initial weights of the unknown and padding tokens."
   ]
  },
  {
   "cell_type": "code",
   "execution_count": 12,
   "metadata": {
    "pycharm": {
     "is_executing": false
    }
   },
   "outputs": [],
   "source": [
    "UNK_IDX = TEXT.vocab.stoi[TEXT.unk_token]\n",
    "\n",
    "model.embedding.weight.data[UNK_IDX] = torch.zeros(EMBEDDING_DIM)\n",
    "model.embedding.weight.data[PAD_IDX] = torch.zeros(EMBEDDING_DIM)"
   ]
  },
  {
   "cell_type": "markdown",
   "metadata": {},
   "source": [
    "## Train the Model"
   ]
  },
  {
   "cell_type": "markdown",
   "metadata": {},
   "source": [
    "Training is the same as before. We initialize the optimizer, loss function (criterion) and place the model and criterion on the GPU (if available)"
   ]
  },
  {
   "cell_type": "code",
   "execution_count": 13,
   "metadata": {
    "pycharm": {
     "is_executing": false
    }
   },
   "outputs": [],
   "source": [
    "import torch.optim as optim\n",
    "\n",
    "optimizer = optim.Adam(model.parameters())\n",
    "\n",
    "criterion = nn.BCEWithLogitsLoss()\n",
    "\n",
    "model = model.to(device)\n",
    "criterion = criterion.to(device)"
   ]
  },
  {
   "cell_type": "markdown",
   "metadata": {},
   "source": [
    "We implement the function to calculate accuracy..."
   ]
  },
  {
   "cell_type": "code",
   "execution_count": 14,
   "metadata": {
    "pycharm": {
     "is_executing": false
    }
   },
   "outputs": [],
   "source": [
    "def binary_accuracy(preds, y):\n",
    "    \"\"\"\n",
    "    Returns accuracy per batch, i.e. if you get 8/10 right, this returns 0.8, NOT 8\n",
    "    \"\"\"\n",
    "\n",
    "    #round predictions to the closest integer\n",
    "    rounded_preds = torch.round(torch.sigmoid(preds))\n",
    "    correct = (rounded_preds == y).float() #convert into float for division \n",
    "    acc = correct.sum() / len(correct)\n",
    "    return acc"
   ]
  },
  {
   "cell_type": "markdown",
   "metadata": {},
   "source": [
    "We define a function for training our model...\n",
    "\n",
    "**Note**: as we are using dropout again, we must remember to use `model.train()` to ensure the dropout is \"turned on\" while training."
   ]
  },
  {
   "cell_type": "code",
   "execution_count": 5,
   "metadata": {
    "pycharm": {
     "is_executing": false
    }
   },
   "outputs": [],
   "source": [
    "def train(model, iterator, optimizer, criterion):\n",
    "    \n",
    "    epoch_loss = 0\n",
    "    epoch_acc = 0\n",
    "    \n",
    "    model.train()\n",
    "    \n",
    "    for batch in iterator:\n",
    "        \n",
    "        optimizer.zero_grad()\n",
    "        \n",
    "        predictions = model(batch.text).squeeze(1)\n",
    "        \n",
    "        loss = criterion(predictions, batch.label)\n",
    "        \n",
    "        acc = binary_accuracy(predictions, batch.label)\n",
    "        \n",
    "        loss.backward()\n",
    "        \n",
    "        optimizer.step()\n",
    "        \n",
    "        epoch_loss += loss.item()\n",
    "        epoch_acc += acc.item()\n",
    "        \n",
    "    return epoch_loss / len(iterator), epoch_acc / len(iterator)"
   ]
  },
  {
   "cell_type": "markdown",
   "metadata": {},
   "source": [
    "We define a function for testing our model...\n",
    "\n",
    "**Note**: again, as we are now using dropout, we must remember to use `model.eval()` to ensure the dropout is \"turned off\" while evaluating."
   ]
  },
  {
   "cell_type": "code",
   "execution_count": 16,
   "metadata": {
    "pycharm": {
     "is_executing": false
    }
   },
   "outputs": [],
   "source": [
    "def evaluate(model, iterator, criterion):\n",
    "    \n",
    "    epoch_loss = 0\n",
    "    epoch_acc = 0\n",
    "    \n",
    "    model.eval()\n",
    "    \n",
    "    with torch.no_grad():\n",
    "    \n",
    "        for batch in iterator:\n",
    "\n",
    "            predictions = model(batch.text).squeeze(1)\n",
    "            \n",
    "            loss = criterion(predictions, batch.label)\n",
    "            \n",
    "            acc = binary_accuracy(predictions, batch.label)\n",
    "\n",
    "            epoch_loss += loss.item()\n",
    "            epoch_acc += acc.item()\n",
    "        \n",
    "    return epoch_loss / len(iterator), epoch_acc / len(iterator)"
   ]
  },
  {
   "cell_type": "markdown",
   "metadata": {},
   "source": [
    "Let's define our function to tell us how long epochs take."
   ]
  },
  {
   "cell_type": "code",
   "execution_count": 3,
   "metadata": {
    "pycharm": {
     "is_executing": false
    }
   },
   "outputs": [],
   "source": [
    "import time\n",
    "\n",
    "def epoch_time(start_time, end_time):\n",
    "    elapsed_time = end_time - start_time\n",
    "    elapsed_mins = int(elapsed_time / 60)\n",
    "    elapsed_secs = int(elapsed_time - (elapsed_mins * 60))\n",
    "    return elapsed_mins, elapsed_secs"
   ]
  },
  {
   "cell_type": "markdown",
   "metadata": {},
   "source": [
    "Finally, we train our model..."
   ]
  },
  {
   "cell_type": "code",
   "execution_count": null,
   "metadata": {
    "scrolled": true,
    "pycharm": {
     "is_executing": true
    }
   },
   "outputs": [
    {
     "name": "stdout",
     "text": [
      "Epoch: 01 | Epoch Time: 5m 39s",
      "\n",
      "\tTrain Loss: 0.108 | Train Acc: 96.10%",
      "\n",
      "\t Val. Loss: 0.353 |  Val. Acc: 86.24%",
      "\n"
     ],
     "output_type": "stream"
    }
   ],
   "source": [
    "N_EPOCHS = 5\n",
    "\n",
    "best_valid_loss = float('inf')\n",
    "\n",
    "for epoch in range(N_EPOCHS):\n",
    "\n",
    "    start_time = time.time()\n",
    "    \n",
    "    train_loss, train_acc = train(model, train_iterator, optimizer, criterion)\n",
    "    valid_loss, valid_acc = evaluate(model, valid_iterator, criterion)\n",
    "    \n",
    "    end_time = time.time()\n",
    "\n",
    "    epoch_mins, epoch_secs = epoch_time(start_time, end_time)\n",
    "    \n",
    "    if valid_loss < best_valid_loss:\n",
    "        best_valid_loss = valid_loss\n",
    "        torch.save(model.state_dict(), 'tut4-model.pt')\n",
    "    \n",
    "    print(f'Epoch: {epoch+1:02} | Epoch Time: {epoch_mins}m {epoch_secs}s')\n",
    "    print(f'\\tTrain Loss: {train_loss:.3f} | Train Acc: {train_acc*100:.2f}%')\n",
    "    print(f'\\t Val. Loss: {valid_loss:.3f} |  Val. Acc: {valid_acc*100:.2f}%')"
   ]
  },
  {
   "cell_type": "markdown",
   "metadata": {},
   "source": [
    "We get test results comparable to the previous 2 models!"
   ]
  },
  {
   "cell_type": "code",
   "execution_count": null,
   "metadata": {
    "pycharm": {
     "is_executing": false
    }
   },
   "outputs": [],
   "source": [
    "model.load_state_dict(torch.load('tut4-model.pt'))\n",
    "\n",
    "test_loss, test_acc = evaluate(model, test_iterator, criterion)\n",
    "\n",
    "print(f'Test Loss: {test_loss:.3f} | Test Acc: {test_acc*100:.2f}%')"
   ]
  },
  {
   "cell_type": "markdown",
   "metadata": {},
   "source": [
    "## User Input\n",
    "\n",
    "And again, as a sanity check we can check some input sentences\n",
    "\n",
    "**Note**: As mentioned in the implementation details, the input sentence has to be at least as long as the largest filter height used. We modify our `predict_sentiment` function to also accept a minimum length argument. If the tokenized input sentence is less than `min_len` tokens, we append padding tokens (`<pad>`) to make it `min_len` tokens."
   ]
  },
  {
   "cell_type": "code",
   "execution_count": null,
   "metadata": {
    "pycharm": {
     "is_executing": false
    }
   },
   "outputs": [],
   "source": [
    "import spacy\n",
    "nlp = spacy.load('en')\n",
    "\n",
    "def predict_sentiment(model, sentence, min_len = 5):\n",
    "    model.eval()\n",
    "    tokenized = [tok.text for tok in nlp.tokenizer(sentence)]\n",
    "    if len(tokenized) < min_len:\n",
    "        tokenized += ['<pad>'] * (min_len - len(tokenized))\n",
    "    indexed = [TEXT.vocab.stoi[t] for t in tokenized]\n",
    "    tensor = torch.LongTensor(indexed).to(device)\n",
    "    tensor = tensor.unsqueeze(1)\n",
    "    prediction = torch.sigmoid(model(tensor))\n",
    "    return prediction.item()"
   ]
  },
  {
   "cell_type": "markdown",
   "metadata": {},
   "source": [
    "An example negative review..."
   ]
  },
  {
   "cell_type": "code",
   "execution_count": null,
   "metadata": {
    "pycharm": {
     "is_executing": false
    }
   },
   "outputs": [],
   "source": [
    "predict_sentiment(model, \"This film is terrible\")"
   ]
  },
  {
   "cell_type": "markdown",
   "metadata": {},
   "source": [
    "An example positive review..."
   ]
  },
  {
   "cell_type": "code",
   "execution_count": null,
   "metadata": {
    "pycharm": {
     "is_executing": false
    }
   },
   "outputs": [],
   "source": [
    "predict_sentiment(model, \"This film is great\")"
   ]
  }
 ],
 "metadata": {
  "kernelspec": {
   "name": "base",
   "language": "python",
   "display_name": "base"
  },
  "language_info": {
   "codemirror_mode": {
    "name": "ipython",
    "version": 3
   },
   "file_extension": ".py",
   "mimetype": "text/x-python",
   "name": "python",
   "nbconvert_exporter": "python",
   "pygments_lexer": "ipython3",
   "version": "3.7.0"
  },
  "pycharm": {
   "stem_cell": {
    "cell_type": "raw",
    "source": [],
    "metadata": {
     "collapsed": false
    }
   }
  }
 },
 "nbformat": 4,
 "nbformat_minor": 2
}